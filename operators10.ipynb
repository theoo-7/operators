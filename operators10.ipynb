{
 "cells": [
  {
   "cell_type": "code",
   "execution_count": 19,
   "id": "55a44881-d1b9-435b-875c-82b2e68dad86",
   "metadata": {},
   "outputs": [
    {
     "name": "stdout",
     "output_type": "stream",
     "text": [
      "False\n"
     ]
    }
   ],
   "source": [
    "a,b,c=15,10,15\n",
    "print(a>b and a>c)"
   ]
  },
  {
   "cell_type": "code",
   "execution_count": 21,
   "id": "b744944d-9ab8-43a2-802b-4c29b7015c23",
   "metadata": {},
   "outputs": [
    {
     "name": "stdout",
     "output_type": "stream",
     "text": [
      "True\n"
     ]
    }
   ],
   "source": [
    "a=5\n",
    "b=10\n",
    "c=15 \n",
    "print(a<b or a>c)"
   ]
  },
  {
   "cell_type": "code",
   "execution_count": 15,
   "id": "060358d2-8cec-46c2-b178-7ab77ef4ddea",
   "metadata": {},
   "outputs": [
    {
     "name": "stdout",
     "output_type": "stream",
     "text": [
      "True\n"
     ]
    }
   ],
   "source": [
    "a=5\n",
    "b=10\n",
    "c=15 \n",
    "print (not(a>b and a>c))"
   ]
  },
  {
   "cell_type": "code",
   "execution_count": 37,
   "id": "4edc0fd6-ac60-4467-9d68-0b7cc6827a7c",
   "metadata": {},
   "outputs": [
    {
     "name": "stdout",
     "output_type": "stream",
     "text": [
      "I like kiwi\n"
     ]
    }
   ],
   "source": [
    "k=\"  I like apple \"\n",
    "print(k.strip().replace(\"apple\",\"kiwi\"))"
   ]
  },
  {
   "cell_type": "code",
   "execution_count": null,
   "id": "54814b91-1700-410d-884f-e23d9ad48a47",
   "metadata": {},
   "outputs": [],
   "source": []
  }
 ],
 "metadata": {
  "kernelspec": {
   "display_name": "Python [conda env:base] *",
   "language": "python",
   "name": "conda-base-py"
  },
  "language_info": {
   "codemirror_mode": {
    "name": "ipython",
    "version": 3
   },
   "file_extension": ".py",
   "mimetype": "text/x-python",
   "name": "python",
   "nbconvert_exporter": "python",
   "pygments_lexer": "ipython3",
   "version": "3.12.7"
  }
 },
 "nbformat": 4,
 "nbformat_minor": 5
}
