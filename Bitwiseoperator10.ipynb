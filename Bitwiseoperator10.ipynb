{
 "cells": [
  {
   "cell_type": "code",
   "execution_count": 1,
   "id": "53e5c137-0d23-4a7e-89ff-b38f17ab16e8",
   "metadata": {},
   "outputs": [
    {
     "name": "stdout",
     "output_type": "stream",
     "text": [
      "15\n"
     ]
    }
   ],
   "source": [
    "print(11 |12)"
   ]
  },
  {
   "cell_type": "code",
   "execution_count": 5,
   "id": "3b4daf94-bf61-41d0-ae03-198fafca258e",
   "metadata": {},
   "outputs": [
    {
     "name": "stdout",
     "output_type": "stream",
     "text": [
      "30\n"
     ]
    }
   ],
   "source": [
    "print(14|20)\n"
   ]
  },
  {
   "cell_type": "code",
   "execution_count": 7,
   "id": "d524324c-4516-46a0-af83-e02a161be47d",
   "metadata": {},
   "outputs": [
    {
     "name": "stdout",
     "output_type": "stream",
     "text": [
      "7\n"
     ]
    }
   ],
   "source": [
    "print(6 | 3)"
   ]
  },
  {
   "cell_type": "code",
   "execution_count": 9,
   "id": "aa33dc78-c19c-45ef-84b8-c9697eeb7a09",
   "metadata": {},
   "outputs": [
    {
     "name": "stdout",
     "output_type": "stream",
     "text": [
      "5\n"
     ]
    }
   ],
   "source": [
    "print(6 ^ 3)"
   ]
  },
  {
   "cell_type": "code",
   "execution_count": 17,
   "id": "b73e9ea1-cb16-42f7-8376-bd8af7c07883",
   "metadata": {},
   "outputs": [
    {
     "name": "stdout",
     "output_type": "stream",
     "text": [
      "-100001\n"
     ]
    }
   ],
   "source": [
    "print(~100000)"
   ]
  },
  {
   "cell_type": "code",
   "execution_count": 19,
   "id": "62ffc280-1e56-4486-8ddf-91c99d79f3f3",
   "metadata": {},
   "outputs": [
    {
     "name": "stdout",
     "output_type": "stream",
     "text": [
      "24\n"
     ]
    }
   ],
   "source": [
    "print(3 << 3)\n",
    " #3 = 0000000000000011\n",
    "#12 = 0000000000001100"
   ]
  },
  {
   "cell_type": "code",
   "execution_count": null,
   "id": "725813b9-4456-4bca-ae81-f26978c53150",
   "metadata": {},
   "outputs": [],
   "source": []
  }
 ],
 "metadata": {
  "kernelspec": {
   "display_name": "Python [conda env:base] *",
   "language": "python",
   "name": "conda-base-py"
  },
  "language_info": {
   "codemirror_mode": {
    "name": "ipython",
    "version": 3
   },
   "file_extension": ".py",
   "mimetype": "text/x-python",
   "name": "python",
   "nbconvert_exporter": "python",
   "pygments_lexer": "ipython3",
   "version": "3.12.7"
  }
 },
 "nbformat": 4,
 "nbformat_minor": 5
}
